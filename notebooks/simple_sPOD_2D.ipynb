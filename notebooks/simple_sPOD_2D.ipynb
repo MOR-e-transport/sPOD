{
 "cells": [
  {
   "cell_type": "code",
   "execution_count": 1,
   "metadata": {
    "code_folding": [
     0
    ]
   },
   "outputs": [
    {
     "ename": "ImportError",
     "evalue": "cannot import name 'sPOD_distribute_residual' from 'sPOD_tools' (/home/arthur/Documents/Project/sPOD/sPOD/notebooks/../lib/sPOD_tools.py)",
     "output_type": "error",
     "traceback": [
      "\u001b[0;31m---------------------------------------------------------------------------\u001b[0m",
      "\u001b[0;31mImportError\u001b[0m                               Traceback (most recent call last)",
      "Cell \u001b[0;32mIn[1], line 7\u001b[0m\n\u001b[1;32m      5\u001b[0m \u001b[38;5;28;01mfrom\u001b[39;00m \u001b[38;5;21;01mnumpy\u001b[39;00m \u001b[38;5;28;01mimport\u001b[39;00m exp, mod,meshgrid,pi,sin,size\n\u001b[1;32m      6\u001b[0m \u001b[38;5;28;01mimport\u001b[39;00m \u001b[38;5;21;01mmatplotlib\u001b[39;00m\u001b[38;5;21;01m.\u001b[39;00m\u001b[38;5;21;01mpyplot\u001b[39;00m \u001b[38;5;28;01mas\u001b[39;00m \u001b[38;5;21;01mplt\u001b[39;00m\n\u001b[0;32m----> 7\u001b[0m \u001b[38;5;28;01mfrom\u001b[39;00m \u001b[38;5;21;01msPOD_tools\u001b[39;00m \u001b[38;5;28;01mimport\u001b[39;00m frame, sPOD_distribute_residual\n\u001b[1;32m      8\u001b[0m \u001b[38;5;28;01mfrom\u001b[39;00m \u001b[38;5;21;01mtransforms\u001b[39;00m \u001b[38;5;28;01mimport\u001b[39;00m transforms\n\u001b[1;32m      9\u001b[0m \u001b[38;5;124;03m''' to see the equations etc. you need jupyter-notebook extensions: \u001b[39;00m\n\u001b[1;32m     10\u001b[0m \u001b[38;5;124;03mhttps://jupyter-contrib-nbextensions.readthedocs.io/en/latest/install.html\u001b[39;00m\n\u001b[1;32m     11\u001b[0m \u001b[38;5;124;03m'''\u001b[39;00m\n",
      "\u001b[0;31mImportError\u001b[0m: cannot import name 'sPOD_distribute_residual' from 'sPOD_tools' (/home/arthur/Documents/Project/sPOD/sPOD/notebooks/../lib/sPOD_tools.py)"
     ]
    }
   ],
   "source": [
    "###\n",
    "import sys\n",
    "sys.path.append('../lib')\n",
    "import numpy as np\n",
    "from numpy import exp, mod,meshgrid,pi,sin,size\n",
    "import matplotlib.pyplot as plt\n",
    "from sPOD_tools import frame, sPOD_distribute_residual\n",
    "from transforms import Transform\n",
    "''' to see the equations etc. you need jupyter-notebook extensions: \n",
    "https://jupyter-contrib-nbextensions.readthedocs.io/en/latest/install.html\n",
    "'''"
   ]
  },
  {
   "cell_type": "markdown",
   "metadata": {},
   "source": [
    "# New shifted POD\n",
    "\n",
    "Lets take a simple example of shifted cylinders in 2D: \n",
    "\\begin{align}\n",
    "            q(x,t) =q_1(\\vec{x}-\\vec{\\Delta_1}{(t)},t)+q_2(x+\\vec{\\Delta}_2(t),t)\\\\\n",
    "\\end{align}\n",
    "which is simply a time dependent transport with shifts.\n",
    "Lets generate some data:\n"
   ]
  },
  {
   "cell_type": "code",
   "execution_count": null,
   "metadata": {
    "code_folding": [
     0
    ]
   },
   "outputs": [],
   "source": [
    "##########################################\n",
    "#%% Define your DATA:\n",
    "##########################################\n",
    "plt.close(\"all\")\n",
    "Ngrid = [401, 202]  # number of grid points in x\n",
    "Nt = 50            # Number of time intervalls\n",
    "Nvar = 1            # Number of variables\n",
    "nmodes = 1          # reduction of singular values\n",
    "\n",
    "data_shape = [*Ngrid,Nvar,Nt]\n",
    "               # size of time intervall\n",
    "T = 2*pi                # total time\n",
    "L = np.asarray([2, 1])   # total domain size\n",
    "x0 = L*0.5               # starting point of the gauss puls\n",
    "R = 0.1 * min(L)         # Radius of cylinder\n",
    "x,y = (np.linspace(0, L[i], Ngrid[i]) for i in range(2))\n",
    "time = np.linspace(0, T, Nt)\n",
    "dx,dy = (x[1]-x[0],y[1]-y[0])\n",
    "dt = time[1]-time[0]\n",
    "c = dx/dt\n",
    "[Y,X] = meshgrid(y,x)\n",
    "\n",
    "\n",
    "f = lambda x,l : ((np.tanh(x/l) + 1 ) * 0.5)\n",
    "\n",
    "phi1 = np.zeros(data_shape[:-2])\n",
    "phi2 = np.zeros(data_shape[:-2])\n",
    "q = np.zeros(data_shape)\n",
    "\n",
    "shift1 = np.zeros([2,Nt])\n",
    "shift2 = np.zeros([2,Nt])\n",
    "\n",
    "center1 = (0.2*L[0],0.5*L[1])\n",
    "center2 = (0.5*L[0],0.5*L[1])\n",
    "\n",
    "for it,t in enumerate(time):\n",
    "    \n",
    "    x1,y1 = (center1[0], 0.3*L[1]*sin(t) + center1[1])\n",
    "    x2,y2 = (center2[0]-0.3*L[1]*sin(t), - 0.3*L[1]*sin(t) + center2[1])\n",
    "    \n",
    "    phi1 = np.sqrt((X-x1)**2 + (Y-y1)**2) - R\n",
    "    phi2 = np.sqrt((X-x2)**2 + (Y-y2)**2) - R\n",
    "    \n",
    "    shift1[0,it] = x1-center1[0]\n",
    "    shift1[1,it] = y1-center1[1]\n",
    "    \n",
    "    shift2[0,it] = x2-center2[0]\n",
    "    shift2[1,it] = y2-center2[1]\n",
    "    \n",
    "    q[...,0,it] = f(phi1,dx*3)*f(phi2,dx*3) \n",
    "    #q[...,1,it] = f(phi1,dx)-f(phi2,dx) \n",
    "fig,axs= plt.subplots(3,1,sharex=True)\n",
    "fig.suptitle(r'Dat$q(\\vec{x},t)$')\n",
    "axs[0].pcolormesh(X,Y,q[...,0,0])\n",
    "axs[0].set_title(0)\n",
    "axs[1].pcolormesh(X,Y,q[...,0,it//4])\n",
    "axs[1].set_title(it//4)\n",
    "axs[2].pcolormesh(X,Y,q[...,0,it])\n",
    "axs[2].set_title(it)\n",
    "axs[2].set_xlabel(r'$x$')\n",
    "plt.show()\n",
    "plt.pause(0.001)\n",
    "    "
   ]
  },
  {
   "cell_type": "markdown",
   "metadata": {},
   "source": [
    "Now we try to decompose every frame in dyadic sturctures\n",
    "\\begin{equation*}\n",
    "q_k(x,t) = \\sum_{l=1}^{r_k} \\alpha_l^k(t) \\phi_l^k(x)\n",
    "\\end{equation*}\n",
    "using the shifted POD.\n",
    "The total field will be then given by:\n",
    "\\begin{equation}\n",
    "                q(x,t) \\approx \\sum_{k=1}^{N} \\sum_{l=1}^{r_k} \\alpha_l^k(t) \\phi_l^k(x - \\Delta^k(t))\n",
    "\\end{equation}\n",
    "Therefore we have to compute the discrete shift transformations first:"
   ]
  },
  {
   "cell_type": "code",
   "execution_count": 2,
   "metadata": {
    "code_folding": [
     0
    ]
   },
   "outputs": [
    {
     "ename": "NameError",
     "evalue": "name 'transforms' is not defined",
     "output_type": "error",
     "traceback": [
      "\u001b[0;31m---------------------------------------------------------------------------\u001b[0m",
      "\u001b[0;31mNameError\u001b[0m                                 Traceback (most recent call last)",
      "Cell \u001b[0;32mIn[2], line 2\u001b[0m\n\u001b[1;32m      1\u001b[0m \u001b[38;5;66;03m## Define shift trafos\u001b[39;00m\n\u001b[0;32m----> 2\u001b[0m shift_trafo_1 \u001b[38;5;241m=\u001b[39m \u001b[43mtransforms\u001b[49m(data_shape,L, shifts \u001b[38;5;241m=\u001b[39m shift1, dx \u001b[38;5;241m=\u001b[39m [dx,dy] )\n\u001b[1;32m      3\u001b[0m shift_trafo_2 \u001b[38;5;241m=\u001b[39m transforms(data_shape,L, shifts \u001b[38;5;241m=\u001b[39m shift2, dx \u001b[38;5;241m=\u001b[39m [dx,dy] )\n\u001b[1;32m      4\u001b[0m qshift1 \u001b[38;5;241m=\u001b[39m shift_trafo_1\u001b[38;5;241m.\u001b[39mapply(q)\n",
      "\u001b[0;31mNameError\u001b[0m: name 'transforms' is not defined"
     ]
    }
   ],
   "source": [
    "## Define shift trafos\n",
    "shift_trafo_1 = Transform(data_shape,L, shifts = shift1, dx = [dx,dy] )\n",
    "shift_trafo_2 = Transform(data_shape,L, shifts = shift2, dx = [dx,dy] )\n",
    "qshift1 = shift_trafo_1.apply(q)\n",
    "qshift2 = shift_trafo_2.apply(q)\n",
    "qshiftreverse = shift_trafo_2.reverse(shift_trafo_2.apply(q))\n",
    "res = q-qshiftreverse\n",
    "err = np.linalg.norm(np.reshape(res,-1))/np.linalg.norm(np.reshape(q,-1))\n",
    "print(\"err =  %4.4e \"% err)\n",
    "\n",
    "## plot the error of the shift\n",
    "plt.pcolormesh(X,Y,q[...,0,0]-qshiftreverse[...,0,0])\n",
    "plt.colorbar()\n",
    "fig,axs= plt.subplots(3,2,sharex=True)\n",
    "fig.suptitle(r' $T^{\\Delta_1(t)}q(\\vec{x},t)$            $T^{\\Delta_2(t)}q(\\vec{x},t)$')\n",
    "axs[0,0].pcolormesh(X,Y,qshift1[...,0,0])\n",
    "axs[0,0].set_title(0)\n",
    "axs[1,0].pcolormesh(X,Y,qshift1[...,0,it//4])\n",
    "axs[1,0].set_title(it//4)\n",
    "axs[2,0].pcolormesh(X,Y,qshift1[...,0,it])\n",
    "axs[2,0].set_title(it)\n",
    "axs[2,0].set_xlabel(r'$x$')\n",
    "\n",
    "axs[0,1].pcolormesh(X,Y,qshift2[...,0,0])\n",
    "axs[0,1].set_title(0)\n",
    "axs[1,1].pcolormesh(X,Y,qshift2[...,0,it//4])\n",
    "axs[1,1].set_title(it//4)\n",
    "axs[2,1].pcolormesh(X,Y,qshift2[...,0,it])\n",
    "axs[2,1].set_title(it)\n",
    "axs[2,1].set_xlabel(r'$x$')\n",
    "plt.show()\n",
    "plt.pause(0.001)"
   ]
  },
  {
   "cell_type": "markdown",
   "metadata": {},
   "source": [
    "Lastly we want to seperate the two frames using the sPOD:"
   ]
  },
  {
   "cell_type": "code",
   "execution_count": 6,
   "metadata": {
    "code_folding": [
     0
    ]
   },
   "outputs": [
    {
     "ename": "NameError",
     "evalue": "name 'shift_trafo_1' is not defined",
     "output_type": "error",
     "traceback": [
      "\u001b[0;31m---------------------------------------------------------------------------\u001b[0m",
      "\u001b[0;31mNameError\u001b[0m                                 Traceback (most recent call last)",
      "Cell \u001b[0;32mIn[6], line 2\u001b[0m\n\u001b[1;32m      1\u001b[0m \u001b[38;5;66;03m## compute sPOD\u001b[39;00m\n\u001b[0;32m----> 2\u001b[0m transforms \u001b[38;5;241m=\u001b[39m [\u001b[43mshift_trafo_1\u001b[49m, shift_trafo_2]\n\u001b[1;32m      3\u001b[0m qframes, q \u001b[38;5;241m=\u001b[39m sPOD_distribute_residual(q, transforms, nmodes\u001b[38;5;241m=\u001b[39m\u001b[38;5;241m4\u001b[39m, eps\u001b[38;5;241m=\u001b[39m\u001b[38;5;241m1e-4\u001b[39m, Niter\u001b[38;5;241m=\u001b[39m\u001b[38;5;241m40\u001b[39m, visualize\u001b[38;5;241m=\u001b[39m\u001b[38;5;28;01mTrue\u001b[39;00m)\n\u001b[1;32m      5\u001b[0m q1 \u001b[38;5;241m=\u001b[39m qframes[\u001b[38;5;241m0\u001b[39m]\u001b[38;5;241m.\u001b[39mbuild_field()\n",
      "\u001b[0;31mNameError\u001b[0m: name 'shift_trafo_1' is not defined"
     ]
    }
   ],
   "source": [
    "## compute sPOD\n",
    "transforms = [shift_trafo_1, shift_trafo_2]\n",
    "qframes, q = sPOD_distribute_residual(q, transforms, nmodes=4, eps=1e-4, Niter=40, visualize=True)\n",
    "\n",
    "q1 = qframes[0].build_field()\n",
    "q2 = qframes[1].build_field()\n",
    "\n",
    "\n",
    "fig,axs= plt.subplots(3,2,sharex=True)\n",
    "fig.suptitle(r' $q_1(\\vec{x},t)$            $q_2(\\vec{x},t)$')\n",
    "axs[0,0].pcolormesh(X,Y,qshift1[...,0,0])\n",
    "axs[0,0].pcolormesh(X,Y,q1[...,0,0])\n",
    "axs[0,0].set_title(0)\n",
    "axs[1,0].pcolormesh(X,Y,q1[...,0,it//4])\n",
    "axs[1,0].set_title(it//4)\n",
    "axs[2,0].pcolormesh(X,Y,q1[...,0,it])\n",
    "axs[2,0].set_title(it)\n",
    "axs[2,0].set_xlabel(r'$x$')\n",
    "\n",
    "axs[0,1].pcolormesh(X,Y,q2[...,0,0])\n",
    "axs[0,1].set_title(0)\n",
    "axs[1,1].pcolormesh(X,Y,q2[...,0,it//4])\n",
    "axs[1,1].set_title(it//4)\n",
    "axs[2,1].pcolormesh(X,Y,q2[...,0,it])\n",
    "axs[2,1].set_title(it)\n",
    "axs[2,1].set_xlabel(r'$x$')\n",
    "plt.show()\n",
    "plt.pause(0.001)\n"
   ]
  },
  {
   "cell_type": "code",
   "execution_count": null,
   "metadata": {},
   "outputs": [],
   "source": []
  }
 ],
 "metadata": {
  "kernelspec": {
   "display_name": "Python 3 (ipykernel)",
   "language": "python",
   "name": "python3"
  },
  "language_info": {
   "codemirror_mode": {
    "name": "ipython",
    "version": 3
   },
   "file_extension": ".py",
   "mimetype": "text/x-python",
   "name": "python",
   "nbconvert_exporter": "python",
   "pygments_lexer": "ipython3",
   "version": "3.10.6"
  },
  "latex_envs": {
   "LaTeX_envs_menu_present": true,
   "autoclose": true,
   "autocomplete": false,
   "bibliofile": "biblio.bib",
   "cite_by": "apalike",
   "current_citInitial": 1,
   "eqLabelWithNumbers": true,
   "eqNumInitial": 1,
   "hotkeys": {
    "equation": "Ctrl-E",
    "itemize": "Ctrl-I"
   },
   "labels_anchors": false,
   "latex_user_defs": false,
   "report_style_numbering": true,
   "user_envs_cfg": false
  }
 },
 "nbformat": 4,
 "nbformat_minor": 4
}
