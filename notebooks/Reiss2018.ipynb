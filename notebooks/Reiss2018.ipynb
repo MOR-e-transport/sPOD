{
 "cells": [
  {
   "cell_type": "markdown",
   "metadata": {},
   "source": [
    "# The sPOD\n",
    "\n",
    "### A mode decomposition for multiple transport phenomena\n",
    "---------------------------------------------------------------------------\n",
    "In this notebook the computations of \\cite{reiss2018shifted} are given as an example.\n",
    " "
   ]
  },
  {
   "cell_type": "markdown",
   "metadata": {},
   "source": [
    "Let's begin with a simple advective transport of a gaussian pulse $f(x)=e^{\\frac{(x-x_0)^2}{2\\sigma^2}}$ with transport velocity $c>0$:\n",
    "    \n",
    "\\begin{align*}\n",
    "   q\\colon~ \\Omega\\times [0, T] \\to \\mathbb R, \\\\\n",
    "   q(x,t) = f(x-ct)\\,.\n",
    "\\end{align*}\n",
    "\n",
    "In a discrete space time \n",
    "$\\Omega_{\\Delta x}\\equiv \\{x_i=x_0+i\\Delta x \\mid i=1,\\dots,M \\}$, and $t_j=j\\Delta t$ with $j=1,\\dots,N$\n",
    "   \\begin{align*}\n",
    "        X_{ij}=q(x_i,t_j)\n",
    "   \\end{align*}\n",
    "denotes the snappshot matrix."
   ]
  },
  {
   "cell_type": "markdown",
   "metadata": {},
   "source": [
    "# References\n",
    "\n",
    "(<a id=\"cit-reiss2018shifted\" href=\"#call-reiss2018shifted\">Reiss, Schulze <em>et al.</em>, 2018</a>) Reiss Julius, Schulze Philipp, Sesterhenn Jörn <em>et al.</em>, ``_The shifted proper orthogonal decomposition: A mode decomposition for multiple transport phenomena_'', SIAM Journal on Scientific Computing, vol. 40, number 3, pp. A1322--A1344,  2018.\n",
    "\n"
   ]
  }
 ],
 "metadata": {
  "author": "mes",
  "kernelspec": {
   "display_name": "Python 3",
   "language": "python",
   "name": "python3"
  },
  "language_info": {
   "codemirror_mode": {
    "name": "ipython",
    "version": 3
   },
   "file_extension": ".py",
   "mimetype": "text/x-python",
   "name": "python",
   "nbconvert_exporter": "python",
   "pygments_lexer": "ipython3",
   "version": "3.7.6"
  },
  "latex_envs": {
   "LaTeX_envs_menu_present": true,
   "autoclose": true,
   "autocomplete": true,
   "bibliofile": "biblio.bib",
   "cite_by": "apalike",
   "current_citInitial": 1,
   "eqLabelWithNumbers": true,
   "eqNumInitial": 1,
   "hotkeys": {
    "equation": "Ctrl-E",
    "itemize": "Ctrl-I"
   },
   "labels_anchors": false,
   "latex_user_defs": false,
   "report_style_numbering": false,
   "user_envs_cfg": false
  },
  "varInspector": {
   "cols": {
    "lenName": 16,
    "lenType": 16,
    "lenVar": 40
   },
   "kernels_config": {
    "python": {
     "delete_cmd_postfix": "",
     "delete_cmd_prefix": "del ",
     "library": "var_list.py",
     "varRefreshCmd": "print(var_dic_list())"
    },
    "r": {
     "delete_cmd_postfix": ") ",
     "delete_cmd_prefix": "rm(",
     "library": "var_list.r",
     "varRefreshCmd": "cat(var_dic_list()) "
    }
   },
   "types_to_exclude": [
    "module",
    "function",
    "builtin_function_or_method",
    "instance",
    "_Feature"
   ],
   "window_display": false
  }
 },
 "nbformat": 4,
 "nbformat_minor": 2
}
